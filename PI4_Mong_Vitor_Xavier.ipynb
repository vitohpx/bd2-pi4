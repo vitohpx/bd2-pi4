{
 "cells": [
  {
   "cell_type": "markdown",
   "metadata": {},
   "source": [
    "### Dependências"
   ]
  },
  {
   "cell_type": "code",
   "execution_count": 1,
   "metadata": {},
   "outputs": [],
   "source": [
    "from pymongo import *\n",
    "from pprint import *"
   ]
  },
  {
   "cell_type": "markdown",
   "metadata": {},
   "source": [
    "### Conexão"
   ]
  },
  {
   "cell_type": "code",
   "execution_count": 2,
   "metadata": {},
   "outputs": [],
   "source": [
    "client = MongoClient('localhost:27017') #A porta padrão do mongodb é a 27017."
   ]
  },
  {
   "cell_type": "markdown",
   "metadata": {},
   "source": [
    "### Criação do Database"
   ]
  },
  {
   "cell_type": "code",
   "execution_count": 3,
   "metadata": {},
   "outputs": [],
   "source": [
    "db = client[\"amazon-meta\"]"
   ]
  },
  {
   "cell_type": "markdown",
   "metadata": {},
   "source": [
    "### Execução do parser.py antes da inserção da coleção de dados no Database"
   ]
  },
  {
   "cell_type": "code",
   "execution_count": 4,
   "metadata": {},
   "outputs": [
    {
     "name": "stdout",
     "output_type": "stream",
     "text": [
      "100%|███████████████████████████| 15010574/15010574 [01:18<00:00, 190301.35it/s]\n"
     ]
    }
   ],
   "source": [
    "!python3 parser.py > amazon.json  #O path do arquivo \"amazon-meta.txt.gz\" deve está no mesmo diretório, assim como está especificado no arquivo \"parser.py\" "
   ]
  },
  {
   "cell_type": "markdown",
   "metadata": {},
   "source": [
    "#### Utilizaremos os dados do arquivo 'amazon.json', na qual foi gerado através do \"parser.py\". Os dados foram inseridos no Mongo DB através do seguinte comando:"
   ]
  },
  {
   "cell_type": "code",
   "execution_count": 5,
   "metadata": {
    "scrolled": true
   },
   "outputs": [
    {
     "name": "stdout",
     "output_type": "stream",
     "text": [
      "2020-02-27T20:57:53.818-0400\tconnected to: localhost:27017\n",
      "2020-02-27T20:57:56.708-0400\t[........................] amazon-meta.amazon\t22.7MB/1.03GB (2.2%)\n",
      "2020-02-27T20:57:59.708-0400\t[#.......................] amazon-meta.amazon\t61.4MB/1.03GB (5.8%)\n",
      "2020-02-27T20:58:02.708-0400\t[##......................] amazon-meta.amazon\t94.6MB/1.03GB (9.0%)\n",
      "2020-02-27T20:58:05.708-0400\t[##......................] amazon-meta.amazon\t132MB/1.03GB (12.5%)\n",
      "2020-02-27T20:58:08.708-0400\t[###.....................] amazon-meta.amazon\t158MB/1.03GB (15.0%)\n",
      "2020-02-27T20:58:11.709-0400\t[####....................] amazon-meta.amazon\t192MB/1.03GB (18.1%)\n",
      "2020-02-27T20:58:14.708-0400\t[#####...................] amazon-meta.amazon\t233MB/1.03GB (22.1%)\n",
      "2020-02-27T20:58:17.708-0400\t[######..................] amazon-meta.amazon\t268MB/1.03GB (25.3%)\n",
      "2020-02-27T20:58:20.708-0400\t[######..................] amazon-meta.amazon\t290MB/1.03GB (27.5%)\n",
      "2020-02-27T20:58:23.708-0400\t[#######.................] amazon-meta.amazon\t323MB/1.03GB (30.6%)\n",
      "2020-02-27T20:58:26.712-0400\t[#######.................] amazon-meta.amazon\t352MB/1.03GB (33.3%)\n",
      "2020-02-27T20:58:29.708-0400\t[########................] amazon-meta.amazon\t378MB/1.03GB (35.8%)\n",
      "2020-02-27T20:58:32.708-0400\t[#########...............] amazon-meta.amazon\t413MB/1.03GB (39.1%)\n",
      "2020-02-27T20:58:35.709-0400\t[##########..............] amazon-meta.amazon\t443MB/1.03GB (42.0%)\n",
      "2020-02-27T20:58:38.710-0400\t[##########..............] amazon-meta.amazon\t471MB/1.03GB (44.6%)\n",
      "2020-02-27T20:58:41.708-0400\t[###########.............] amazon-meta.amazon\t496MB/1.03GB (46.9%)\n",
      "2020-02-27T20:58:44.708-0400\t[###########.............] amazon-meta.amazon\t520MB/1.03GB (49.2%)\n",
      "2020-02-27T20:58:47.708-0400\t[############............] amazon-meta.amazon\t540MB/1.03GB (51.1%)\n",
      "2020-02-27T20:58:50.708-0400\t[############............] amazon-meta.amazon\t570MB/1.03GB (54.0%)\n",
      "2020-02-27T20:58:53.708-0400\t[#############...........] amazon-meta.amazon\t598MB/1.03GB (56.6%)\n",
      "2020-02-27T20:58:56.708-0400\t[##############..........] amazon-meta.amazon\t622MB/1.03GB (58.9%)\n",
      "2020-02-27T20:58:59.708-0400\t[##############..........] amazon-meta.amazon\t650MB/1.03GB (61.5%)\n",
      "2020-02-27T20:59:02.708-0400\t[###############.........] amazon-meta.amazon\t681MB/1.03GB (64.4%)\n",
      "2020-02-27T20:59:05.708-0400\t[###############.........] amazon-meta.amazon\t703MB/1.03GB (66.6%)\n",
      "2020-02-27T20:59:08.708-0400\t[################........] amazon-meta.amazon\t726MB/1.03GB (68.7%)\n",
      "2020-02-27T20:59:11.708-0400\t[################........] amazon-meta.amazon\t745MB/1.03GB (70.5%)\n",
      "2020-02-27T20:59:14.708-0400\t[#################.......] amazon-meta.amazon\t767MB/1.03GB (72.6%)\n",
      "2020-02-27T20:59:17.708-0400\t[#################.......] amazon-meta.amazon\t785MB/1.03GB (74.3%)\n",
      "2020-02-27T20:59:20.708-0400\t[##################......] amazon-meta.amazon\t798MB/1.03GB (75.5%)\n",
      "2020-02-27T20:59:23.708-0400\t[##################......] amazon-meta.amazon\t810MB/1.03GB (76.7%)\n",
      "2020-02-27T20:59:26.708-0400\t[##################......] amazon-meta.amazon\t826MB/1.03GB (78.2%)\n",
      "2020-02-27T20:59:29.708-0400\t[###################.....] amazon-meta.amazon\t853MB/1.03GB (80.7%)\n",
      "2020-02-27T20:59:32.708-0400\t[###################.....] amazon-meta.amazon\t873MB/1.03GB (82.7%)\n",
      "2020-02-27T20:59:35.708-0400\t[####################....] amazon-meta.amazon\t899MB/1.03GB (85.1%)\n",
      "2020-02-27T20:59:38.708-0400\t[#####################...] amazon-meta.amazon\t929MB/1.03GB (88.0%)\n",
      "2020-02-27T20:59:41.709-0400\t[#####################...] amazon-meta.amazon\t953MB/1.03GB (90.2%)\n",
      "2020-02-27T20:59:44.709-0400\t[######################..] amazon-meta.amazon\t970MB/1.03GB (91.8%)\n",
      "2020-02-27T20:59:47.708-0400\t[######################..] amazon-meta.amazon\t987MB/1.03GB (93.5%)\n",
      "2020-02-27T20:59:50.708-0400\t[######################..] amazon-meta.amazon\t1003MB/1.03GB (95.0%)\n",
      "2020-02-27T20:59:53.708-0400\t[#######################.] amazon-meta.amazon\t1012MB/1.03GB (95.8%)\n",
      "2020-02-27T20:59:56.834-0400\t[#######################.] amazon-meta.amazon\t1.00GB/1.03GB (97.0%)\n",
      "2020-02-27T20:59:59.708-0400\t[#######################.] amazon-meta.amazon\t1.01GB/1.03GB (98.1%)\n",
      "2020-02-27T21:00:02.708-0400\t[#######################.] amazon-meta.amazon\t1.02GB/1.03GB (99.3%)\n",
      "2020-02-27T21:00:04.970-0400\t[########################] amazon-meta.amazon\t1.03GB/1.03GB (100.0%)\n",
      "2020-02-27T21:00:05.292-0400\timported 548552 documents\n"
     ]
    }
   ],
   "source": [
    "!mongoimport --host localhost --port 27017 --collection amazon --db amazon-meta --file amazon.json"
   ]
  },
  {
   "cell_type": "markdown",
   "metadata": {},
   "source": [
    "### Consultas"
   ]
  },
  {
   "cell_type": "markdown",
   "metadata": {},
   "source": [
    "#### (a) Dado produto, listar os 5 comentários mais úteis e com maior avaliação e os 5 comentários mais úteis e com menor avaliação"
   ]
  },
  {
   "cell_type": "code",
   "execution_count": 6,
   "metadata": {},
   "outputs": [
    {
     "name": "stdout",
     "output_type": "stream",
     "text": [
      "Escolha o id de qual produto deseja: 2\n",
      "\n",
      "[{'_id': ObjectId('5e586592714c44129af91c19'), 'helpful': 16, 'rating': 4},\n",
      " {'_id': ObjectId('5e586592714c44129af91c19'), 'helpful': 9, 'rating': 1},\n",
      " {'_id': ObjectId('5e586592714c44129af91c19'), 'helpful': 8, 'rating': 5},\n",
      " {'_id': ObjectId('5e586592714c44129af91c19'), 'helpful': 8, 'rating': 5},\n",
      " {'_id': ObjectId('5e586592714c44129af91c19'), 'helpful': 6, 'rating': 4}]\n",
      "[{'_id': ObjectId('5e586592714c44129af91c19'), 'helpful': 9, 'rating': 1},\n",
      " {'_id': ObjectId('5e586592714c44129af91c19'), 'helpful': 16, 'rating': 4},\n",
      " {'_id': ObjectId('5e586592714c44129af91c19'), 'helpful': 6, 'rating': 4},\n",
      " {'_id': ObjectId('5e586592714c44129af91c19'), 'helpful': 5, 'rating': 4},\n",
      " {'_id': ObjectId('5e586592714c44129af91c19'), 'helpful': 5, 'rating': 4}]\n"
     ]
    }
   ],
   "source": [
    "produto = str(input(\"Escolha o id de qual produto deseja: \"))\n",
    "print()\n",
    "a_maior = [{\"$match\":{ \"id\" : produto } },{\"$unwind\": \"$reviews\"},{\"$sort\": {\"reviews.helpful\": -1, \"reviews.rating\": -1}},{\"$project\": {\"helpful\": \"$reviews.helpful\", \"rating\":\"$reviews.rating\"}},{\"$limit\": 5}]\n",
    "a_menor = [{\"$match\":{ \"id\" : produto } },{\"$unwind\": \"$reviews\"},{\"$sort\": {\"reviews.rating\": 1, \"reviews.helpful\": -1 }},{\"$project\": {\"helpful\": \"$reviews.helpful\", \"rating\":\"$reviews.rating\"}},{\"$limit\": 5}]\n",
    "\n",
    "pprint(list(db.amazon.aggregate(a_maior)))\n",
    "pprint(list(db.amazon.aggregate(a_menor)))"
   ]
  },
  {
   "cell_type": "markdown",
   "metadata": {},
   "source": [
    "#### (b) Dado um produto, listar os produtos similares com maiores vendas do que ele"
   ]
  },
  {
   "cell_type": "code",
   "execution_count": 7,
   "metadata": {
    "scrolled": true
   },
   "outputs": [
    {
     "name": "stdout",
     "output_type": "stream",
     "text": [
      "Escolha o id de qual produto deseja: 2\n",
      "\n",
      "Produto dado: Candlemas: Feast of Flames, salenrank: 168596\n",
      "\n",
      "Os produtos similares com maiores vendas do que ele: \n",
      "title: Yule: A Celebration of Light and Warmth, salesrank: 103012\n",
      "title: Midsummer: Magical Celebrations of the Summer Solstice, salesrank: 159277\n"
     ]
    }
   ],
   "source": [
    "id_produto = str(input(\"Escolha o id de qual produto deseja: \"))\n",
    "print()\n",
    "produto = db.amazon.find_one({\"id\": id_produto })\n",
    "\n",
    "print(\"Produto dado: \" + produto[\"title\"] + \", \" + \"salenrank: \" +  produto[\"salesrank\"])\n",
    "\n",
    "print()\n",
    "\n",
    "querry = {\"ASIN\":{\"$in\": produto[\"similar_items\"]}, \"$and\":[{\"salesrank\": {\"$lt\": produto[\"salesrank\"]} }]}\n",
    "\n",
    "b = db.amazon.find(querry)\n",
    "print(\"Os produtos similares com maiores vendas do que ele: \")\n",
    "for result in b:\n",
    "    print(\"title: \" + result[\"title\"] + \",\" + \" salesrank: \" + result[\"salesrank\"])\n",
    "    "
   ]
  },
  {
   "cell_type": "markdown",
   "metadata": {},
   "source": [
    "#### (c) Dado um produto, mostrar a evolução diária das médias de avaliação ao longo do intervalo de tempo coberto no arquivo de entrada"
   ]
  },
  {
   "cell_type": "code",
   "execution_count": 8,
   "metadata": {
    "scrolled": true
   },
   "outputs": [
    {
     "name": "stdout",
     "output_type": "stream",
     "text": [
      "Escolha o id de qual produto deseja: 2\n",
      "\n",
      "[{'_id': '2001-12-16', 'avgRating': 5.0},\n",
      " {'_id': '2002-1-24', 'avgRating': 5.0},\n",
      " {'_id': '2002-1-28', 'avgRating': 5.0},\n",
      " {'_id': '2002-1-7', 'avgRating': 4.0},\n",
      " {'_id': '2002-2-14', 'avgRating': 4.0},\n",
      " {'_id': '2002-2-6', 'avgRating': 4.0},\n",
      " {'_id': '2002-3-23', 'avgRating': 4.0},\n",
      " {'_id': '2002-5-23', 'avgRating': 5.0},\n",
      " {'_id': '2003-11-25', 'avgRating': 5.0},\n",
      " {'_id': '2003-2-25', 'avgRating': 5.0},\n",
      " {'_id': '2004-2-11', 'avgRating': 1.0},\n",
      " {'_id': '2005-2-7', 'avgRating': 5.0}]\n"
     ]
    }
   ],
   "source": [
    "produto = str(input(\"Escolha o id de qual produto deseja: \"))\n",
    "print()\n",
    "c = [{\"$match\":{ \"id\" : produto } },{\"$unwind\": \"$reviews\"},{\"$group\": {\"_id\": \"$reviews._date\", \"avgRating\": {\"$avg\": \"$reviews.rating\"}}},{\"$sort\": {\"_id\": 1}}]\n",
    "pprint(list(db.amazon.aggregate(c)))"
   ]
  },
  {
   "cell_type": "markdown",
   "metadata": {},
   "source": [
    "#### (d) Listar os 10 produtos lideres de venda em cada grupo de produtos"
   ]
  },
  {
   "cell_type": "code",
   "execution_count": null,
   "metadata": {},
   "outputs": [],
   "source": []
  },
  {
   "cell_type": "markdown",
   "metadata": {},
   "source": [
    "#### (e) Listar os 10 produtos com a maior média de avaliações úteis positivas por produto"
   ]
  },
  {
   "cell_type": "code",
   "execution_count": 9,
   "metadata": {
    "scrolled": true
   },
   "outputs": [
    {
     "name": "stdout",
     "output_type": "stream",
     "text": [
      "[{'_id': 'Understanding Loved Boys and Boylovers', 'avgHelpful': 243.0},\n",
      " {'_id': \"T'ai Chi for Older Adults\", 'avgHelpful': 233.0},\n",
      " {'_id': 'More Than Just Hot Air: Common Sense Counter-Top Convection Oven '\n",
      "         'Cookbook',\n",
      "  'avgHelpful': 203.0},\n",
      " {'_id': 'Crockpot Cookery (Cookbooks By Morris Press)', 'avgHelpful': 197.0},\n",
      " {'_id': 'Creative Interventions for Troubled Children & Youth',\n",
      "  'avgHelpful': 196.0},\n",
      " {'_id': 'The Story About Ping', 'avgHelpful': 186.46511627906978},\n",
      " {'_id': 'The Story About Ping (8x 8)', 'avgHelpful': 186.34883720930233},\n",
      " {'_id': 'The Story about Ping : StoryTape (StoryTape, Puffin)',\n",
      "  'avgHelpful': 186.32558139534885},\n",
      " {'_id': 'The Story about Ping', 'avgHelpful': 186.30232558139534},\n",
      " {'_id': 'The Smoked-Foods Cookbook: How to Flavor, Cure, and Prepare Savory '\n",
      "         'Meats, Game, Fish, Nuts, and Cheese',\n",
      "  'avgHelpful': 183.0}]\n"
     ]
    }
   ],
   "source": [
    "e = [{\"$unwind\": \"$reviews\"},{\"$group\": {\"_id\": \"$title\", \"avgHelpful\": {\"$avg\": '$reviews.helpful'}}},{\"$sort\": {\"avgHelpful\": -1}},{\"$limit\": 10}]\n",
    "pprint(list(db.amazon.aggregate(e)))"
   ]
  },
  {
   "cell_type": "markdown",
   "metadata": {},
   "source": [
    "#### (f) Listar a 5 categorias de produto com a maior média de avaliações úteis positivas por produto"
   ]
  },
  {
   "cell_type": "code",
   "execution_count": 10,
   "metadata": {},
   "outputs": [
    {
     "name": "stdout",
     "output_type": "stream",
     "text": [
      "[{'_id': '|Books[283155]|Subjects[1000]|Computers & '\n",
      "         'Internet[5]|Software[4053]|Personal Finance[4169]|Intuit '\n",
      "         'Quicken[4171]|Casual Users[502030]',\n",
      "  'avgHelpful': 84.5},\n",
      " {'_id': '|[229534]|Specialty Stores[509348]|Software '\n",
      "         'Books[727676]|Business[727678]|Intuit Quicken[727728]|Casual '\n",
      "         'Users[727732]',\n",
      "  'avgHelpful': 84.5},\n",
      " {'_id': '|Books[283155]|Subjects[1000]|History[9]|Americas[4808]|Caribbean & '\n",
      "         'West Indies[4810]|Dominican Republic[4816]',\n",
      "  'avgHelpful': 78.69491525423729},\n",
      " {'_id': '|Music[5174]|Styles[301668]|Classical[85]|Featured Composers, '\n",
      "         'A-Z[5338]|( G )[19383]|Goetz, Hermann[20197]',\n",
      "  'avgHelpful': 75.0},\n",
      " {'_id': '|[229534]|Categories[491286]', 'avgHelpful': 70.0}]\n"
     ]
    }
   ],
   "source": [
    "f = [{\"$unwind\": \"$reviews\"},{\"$unwind\": \"$categories\"},{\"$group\": {\"_id\": \"$categories\", \"avgHelpful\": {\"$avg\": '$reviews.helpful'}}},{\"$sort\": {\"avgHelpful\": -1}},{\"$limit\": 5}]\n",
    "pprint(list(db.amazon.aggregate(f)))"
   ]
  },
  {
   "cell_type": "markdown",
   "metadata": {},
   "source": [
    "#### (g) Listar os 10 clientes que mais fizeram comentários por grupo de produto"
   ]
  },
  {
   "cell_type": "code",
   "execution_count": null,
   "metadata": {},
   "outputs": [],
   "source": []
  }
 ],
 "metadata": {
  "kernelspec": {
   "display_name": "Python 3",
   "language": "python",
   "name": "python3"
  },
  "language_info": {
   "codemirror_mode": {
    "name": "ipython",
    "version": 3
   },
   "file_extension": ".py",
   "mimetype": "text/x-python",
   "name": "python",
   "nbconvert_exporter": "python",
   "pygments_lexer": "ipython3",
   "version": "3.6.9"
  }
 },
 "nbformat": 4,
 "nbformat_minor": 4
}
